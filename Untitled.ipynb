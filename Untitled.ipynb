{
 "cells": [
  {
   "cell_type": "code",
   "execution_count": 75,
   "metadata": {},
   "outputs": [],
   "source": [
    "import imp\n",
    "import pom_scrape as pm\n",
    "from orm import Team\n",
    "from bs4 import BeautifulSoup\n",
    "pm = imp.reload(pm)"
   ]
  },
  {
   "cell_type": "code",
   "execution_count": 76,
   "metadata": {},
   "outputs": [],
   "source": [
    "sess = pm.open_session()"
   ]
  },
  {
   "cell_type": "code",
   "execution_count": 77,
   "metadata": {},
   "outputs": [],
   "source": [
    "home = pm.get_page(pm.base, sess)\n",
    "years_search = home.find_all('div', id='years-container')\n",
    "years_raw = years_search[0].find_all('a')\n",
    "years_links = {year.text: year['href'] for year in years_raw}"
   ]
  },
  {
   "cell_type": "code",
   "execution_count": 78,
   "metadata": {},
   "outputs": [],
   "source": [
    "link = years_links['2018']\n",
    "\n",
    "page = pm.get_page(pm.base + link, sess)\n",
    "teams = pm.get_all_teams(page)\n",
    "\n",
    "t = teams[list(teams.keys())[0]]"
   ]
  },
  {
   "cell_type": "code",
   "execution_count": 79,
   "metadata": {},
   "outputs": [],
   "source": [
    "page = sess.get(pm.base + t.url)\n",
    "page_s = BeautifulSoup(page.text, 'lxml')"
   ]
  },
  {
   "cell_type": "code",
   "execution_count": 80,
   "metadata": {},
   "outputs": [],
   "source": [
    "report = page_s.find_all('div', id='report')[0]"
   ]
  },
  {
   "cell_type": "code",
   "execution_count": 81,
   "metadata": {},
   "outputs": [],
   "source": [
    "table = report.find_all('table', id='report-table')[0].find_all('tbody')[0]"
   ]
  },
  {
   "cell_type": "code",
   "execution_count": 82,
   "metadata": {},
   "outputs": [],
   "source": [
    "team_stats = table.find_all('tr')#[0]\n",
    "#oe_team_stats = table.find_all('td', id='OE')\n",
    "#print(oe_team_stats)\n",
    "#for row in team_stats:\n",
    "#    print(row, '\\n')"
   ]
  },
  {
   "cell_type": "code",
   "execution_count": 104,
   "metadata": {},
   "outputs": [],
   "source": [
    "misc = []\n",
    "for stat in team_stats:\n",
    "    if hasattr(stat, 'text'):\n",
    "        try:\n",
    "            s = float(stat.text)\n",
    "            misc.append(s)\n",
    "            #print(s)\n",
    "        except:\n",
    "            st = stat.find_all('td')[-1].text.replace('%', '').replace('\"', \"\")\n",
    "            try:\n",
    "                s = float(st)\n",
    "                misc.append(s)\n",
    "            except Exception as e:\n",
    "                #print(e)\n",
    "                pass\n",
    "            \n",
    "            \n",
    "        "
   ]
  },
  {
   "cell_type": "code",
   "execution_count": null,
   "metadata": {},
   "outputs": [],
   "source": []
  }
 ],
 "metadata": {
  "kernelspec": {
   "display_name": "Python 3",
   "language": "python",
   "name": "python3"
  },
  "language_info": {
   "codemirror_mode": {
    "name": "ipython",
    "version": 3
   },
   "file_extension": ".py",
   "mimetype": "text/x-python",
   "name": "python",
   "nbconvert_exporter": "python",
   "pygments_lexer": "ipython3",
   "version": "3.6.2"
  }
 },
 "nbformat": 4,
 "nbformat_minor": 2
}
